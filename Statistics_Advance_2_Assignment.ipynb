{
  "nbformat": 4,
  "nbformat_minor": 0,
  "metadata": {
    "colab": {
      "provenance": []
    },
    "kernelspec": {
      "name": "python3",
      "display_name": "Python 3"
    },
    "language_info": {
      "name": "python"
    }
  },
  "cells": [
    {
      "cell_type": "markdown",
      "source": [
        "Q.1 Define the z-statistic and explain its relationship to the standard normal distribution. How is the\n",
        "z-statistic used in hypothesis testing?\n",
        "\n",
        "Ans. A z-statistic, or z-score, is the quantitative value that indicates how many standard deviations a value is from the mean of a group of values. The z-statistic would be used in hypothesis testing to compare either a group's means or a group to a hypothesized value.\n",
        "\n",
        "The connection with the standard normal distribution is the z-statistic since the test statistic under the null hypothesis may be approximated by a normal distribution.\n",
        "\n",
        "Here's how the z-statistic is used in hypothesis testing:\n",
        "\n",
        "**Calculate the z-statistic**\n",
        "\n",
        "The z-statistic is calculated using the formula\n",
        "\n",
        "z= ( x ̅- μ0) / √(6^2∕n)\n",
        "\n",
        "Compare the calculated z-statistic with the critical value.\n",
        "For each level of significance in the confidence interval, the Z-test has a unique critical value. In case the z-statistic is large enough, then the difference between means will be statistically significant.\n",
        "\n",
        "That is, the use of the variable of interest must be continuous such as age, weight, or temperature. The tools could be applied both to small and large samples if data meet specific assumptions."
      ],
      "metadata": {
        "id": "67WqOhQ7vFLK"
      }
    },
    {
      "cell_type": "markdown",
      "source": [
        "Q.2 What is a p-value, and how is it used in hypothesis testing? What does it mean if the p-value is\n",
        "very small (e.g., 0.01)?\n",
        "\n",
        "Ans. A p-value is a statistical measure that depicts the likelihood that the observed results are due to chance, and it is applied in hypothesis testing in determining whether to reject the null hypothesis:\n",
        "\n",
        "**Definition**\n",
        "\n",
        "A p-value is the probability of obtaining test results at least as extreme as the result actually observed under an assumption that the null hypothesis is correct.\n",
        "\n",
        "**How it's used**\n",
        "\n",
        "The smaller the p-value is, the less likely that the observed outcome may be due to chance and the greater the chances to reject the null hypothesis. A p-value of less than 0.5 is generally deemed significant statistically.\n",
        "\n",
        "**Example**\n",
        "\n",
        "For example, if you were comparing two drugs, a p-value of less than 0.05 would be interpreted as indicating that the symptoms among the two drugs were significantly different.\n",
        "\n",
        "\n",
        "meaning of if  the p-value is\n",
        "very small (e.g., 0.01) is:\n",
        "\n",
        "If the computed p-value is smaller than this, then it will be rejected; otherwise, not rejected. In general, a significance level of 5 % is chosen. alpha < 0.01: very significant result. alpha < 0.05: significant result."
      ],
      "metadata": {
        "id": "f3MTZLEVvEbO"
      }
    },
    {
      "cell_type": "markdown",
      "source": [
        "Q.3 Compare and contrast the binomial and Bernoulli distributions.\n",
        "\n",
        "Ans. A Bernoulli distribution represents one trial with two possible outcomes: success or failure, while a binomial distribution measures the number of successes in a sequence of independent Bernoulli trials. It basically calculates the probability of obtaining a specific number of successes in a sequence of repetitions involving the same probability of success for each event; in other words, it is a compilation of Bernoulli trials repeated several times.\n",
        "\n",
        "**Key Differences:**\n",
        "\n",
        "**Number of Trails:**\n",
        "\n",
        "For example, a Bernoulli distribution analyzes one trial, whereas a binomial distribution analyzes multiple independent trials.\n",
        "\n",
        "**Parameters:**\n",
        "\n",
        "A Bernoulli distribution takes only one parameter in its definition, namely the probability of success, \"p\", while a binomial distribution takes two parameters: \"p\" (probability of success), and \"n\" (number of trials).\n",
        "\n",
        "**Applications:**\n",
        "\n",
        "Use a Bernoulli distribution if you want to calculate the probability of a single event, like flipping a coin once; use a binomial distribution if you want to calculate the probability of a specific number of successes within some fixed number of repeated events, such as flipping a coin 10 times and counting the number of heads.\n",
        "\n",
        "**Example:**\n",
        "1. Bernoulli: What is the probability of heads in a single toss of a coin?\n",
        "2. Binomial: What is the probability that 5 heads come up on 10 coin tosses?\n"
      ],
      "metadata": {
        "id": "QomcFoYIsgb9"
      }
    },
    {
      "cell_type": "markdown",
      "source": [
        "Q.4  Under what conditions is the binomial distribution used, and how does it relate to the Bernoulli\n",
        "distribution?\n",
        "\n",
        "Ans. The binomial distribution is appropriate whenever the following conditions are met:\n",
        "\n",
        "**Constant number of trails (n):** The experiment should be repeated a fixed number of times.\n",
        "\n",
        "**Independent trails:** Outcome of any trail must not depend on any other.\n",
        "\n",
        "**Only two possible outcomes:** Each trail can have only two possible outcomes, sometimes called \"success\" and \"failure\".\n",
        "\n",
        "**Constant probability of success (p):** The probability of success need to be consistent for each trial.\n",
        "\n",
        "The binomial distribution describes the number of successful events in a fixed number of independent Bernoulli trials. A Bernoulli trial is a single experiment with two possible outcomes; the probability of success is p .\n",
        "\n",
        "**Binomial and Bernoulli distributions:**\n",
        "\n",
        "1. The binomial distribution is the generalization of the Bernoulli distribution.\n",
        "2. A single Bernoulli trial can be looked upon as a binomial distribution with n=1.\n",
        "3. The sum of n independent Bernoulli trials with the same probability of success p follows a binomial distribution with parameters n and p.\n",
        "\n",
        "In short, the binomial distribution describes the number of successes in a sequence of Bernoulli trials. Meanwhile, Bernoulli describes distributing one trial."
      ],
      "metadata": {
        "id": "m0tJjQKDtSCI"
      }
    },
    {
      "cell_type": "markdown",
      "source": [
        "Q.5  What are the key properties of the Poisson distribution, and when is it appropriate to use this\n",
        "distribution?\n",
        "\n",
        "Ans. Some of the key properties of a Poisson distribution are: events are independent of each other; the average rate over any given time that events occur is constant and denoted by λ; the probability of an event occurs only as a function of time length, not time since the last event; the Poisson distribution applies when one models the number of rare events occurring within a fixed time and the events are independent and the average rate of occurrence is known and constant.\n",
        "\n",
        "**Key features of Poisson distribution:**\n",
        "1. **Poisson is a discrete distribution:** It deals with the count of whole numbers occurrences within a given time frame. Poisson is an exponential distribution in nature and it hinges on a single parameter only, viz. The distribution is entirely defined by the average rate of events, denoted by  (λ).\n",
        "2. **Mean = Variance:** In a Poisson distribution, the mean and variance are always equal to λ.\n",
        "3. **Events are independent of each other:** It is never true that the happening of one event influences the probability of any other event.\n",
        "\n",
        "When to use Poisson distribution\n",
        "\n",
        "**Rarity events with constant rate**\n",
        "We count the number of times a rare event occurs in specified time and are known to be having an average constant rate.\n",
        "\n",
        "Examples:\n",
        "1. Number of calls received by a call center in a given minute\n",
        "2. Number of car accidents on a highway per day\n",
        "3. Number of radioactive decays in a sample over a fixed time\n",
        "4. Number of customer arrivals at a store in a given hour\n",
        "\n",
        "**Important considerations:**\n",
        "1. **Approximation of Binomial:**\n",
        "If the number of trials in a binomial distribution is very large and the probability of success is very small, the Poisson distribution can be used as an approximation.\n",
        "2. **Large λ and Normal approximation:**\n",
        "For big average rate, Poisson distribution is approximated by normal distribution with the same mean and variance.\n"
      ],
      "metadata": {
        "id": "KdfZY3jxugNS"
      }
    },
    {
      "cell_type": "markdown",
      "source": [
        "Q.6 Define the terms \"probability distribution\" and \"probability density function\" (PDF). How does a\n",
        "PDF differ from a probability mass function (PMF)?\n",
        "\n",
        "Ans. A \"probability distribution\" is a description of the probabilities of the various possible outcomes for a random variable, mapping each possible value to its corresponding probability; the key distinction between the two concepts is that a \"probability density function (PDF)\" is a specific kind of function employed in order to describe the probability distribution of some continuous random variable: in the PDF, the probability of an event occurring within some range is calculated by integrating the PDF over that range.\n",
        "\n",
        "**Key Points About PDFs and PMFs:**\n",
        "1. **PDF (Continuous Variables):**\n",
        "\n",
        " The PDF is a measure of the \"density\" of probability at some point on the scale of the continuous variable. The integral of the PDF over an interval gives the probability that an event falls in that interval. The entire area under a PDF curve sums to 1.\n",
        "2. **PMF (Discrete Variables):**\n",
        "\n",
        " It assigns a probability directly to each of the possible discrete values a random variable can take.\n",
        "\n",
        "3. The sum of all probabilities in a PMF must equal 1.\n",
        "\n",
        "Example:\n",
        "1. **Continuous:**\n",
        "Suppose you try to measure the height of people in a room - it is a continuous variable. Then PDF will be a curve showing the probability that you are likely to find a person with a given height in a given range.\n",
        "2. **Discrete:**\n",
        "Rolling a dice - the PMF would give a probability of 1/6 to every possible outcome (1,2,3,4,5,6).\n"
      ],
      "metadata": {
        "id": "FRTQmdx_voVw"
      }
    },
    {
      "cell_type": "markdown",
      "source": [
        "Q.7 Explain the Central Limit Theorem (CLT) with example.\n",
        "\n",
        "Ans. The Central Limit Theorem is a statistical theory that asserts the means of large samples taken from a population will be normally distributed. No matter if a population is not normally distributed, its means could be approximated using statistics. It helps in the analysis of large data sets and does statistical inferences.\n",
        "\n",
        "**Examples of CLT:**\n",
        "\n",
        "1.**Coin tosses**\n",
        "\n",
        "The middle of the bell curve for coin tosses gives a good sense that it should get approximately an equal distribution of heads and tails. The sides on the shape of the bell curve taper down to represent less probable events, such as getting heads 900 times out of 1,000.\n",
        "\n",
        "2.**Dice**\n",
        "\n",
        "When rolling a six-sided die, the probability of rolling any one side is equal to the probability of rolling any other side.\n",
        "\n",
        "3.**Population mean**\n",
        "\n",
        "If you draw a large enough sample from a population with a finite level of variance, the mean of all samples will be roughly equal to the population mean.\n",
        "\n",
        "The CLT is very useful to answer questions about a population, such as what is the mean household income over the entire U.S. It is also well-suited for the task of estimating confidence intervals and performing hypothesis tests."
      ],
      "metadata": {
        "id": "5hqdhMDJwZ2f"
      }
    },
    {
      "cell_type": "markdown",
      "source": [
        "Q.8 Compare z-scores and t-scores. When should you use a z-score, and when should a t-score be a pplied instead?\n",
        "\n",
        "Ans. Use a z-score, when the population standard deviation is known, while the t-score has been used to determine the population standard deviation; that is to say, use the z-score when your sample size is large and you know the population standard deviation, and use a t-score when the sample size is small or when the population standard deviation is unknown.\n",
        "\n",
        "**Main differences:**\n",
        "\n",
        "**1.Differences:**\n",
        "\n",
        "The simplest difference between the two is, using the z-score formula it assumes that the population standard deviation is known, but for the t-score, then the population standard deviation is unknown and would have to be estimated from your data.\n",
        "\n",
        "**2.Shape of Distribution:**\n",
        "If the sample size is large, then the t-distribution is very close to the standard normal distribution, but when the sample size gets very small, then the t-distribution becomes much wider and more spread out.\n",
        "\n",
        "**When to Use a z-score:**\n",
        "1. When your sample size is large typically more than 30.\n",
        "2. When the population standard deviation is known.\n",
        "\n",
        "**When to Use a t-score:**\n",
        "1. When you have a small sample size.\n",
        "2. When the population standard deviation is unknown and you need to estimate it from the sample.\n",
        "\n",
        "**Example Application:**\n",
        "\n",
        "In bone density tests, the term \"t-score\" is one commonly used, comparing a patient's bone density to that in a young healthy adult population. A \"z-score\" might be used for younger persons, comparing their bone density to other members of the same age group.\n"
      ],
      "metadata": {
        "id": "g4CiOqxjxBIX"
      }
    },
    {
      "cell_type": "markdown",
      "source": [
        "Q.9 Given a sample mean of 105, a population mean of 100, a standard deviation of 15, and a sample\n",
        "size of 25, calculate the z-score and p-value. Based on a significance level of 0.05, do you reject or fail to\n",
        "reject the null hypothesis?\n",
        "\n",
        " Task: Write Python code to calculate the z-score and p-value for the given data.\n",
        "\n",
        "Objective: Apply the formula for the z-score and interpret the p-value for hypothesis testing.\n",
        "\n",
        "Ans. **Objective**\n",
        "\n",
        "Given:\n",
        "\n",
        "Sample mean (x̄) = 105\n",
        "\n",
        "Population mean (μ) = 100\n",
        "\n",
        "Population standard deviation (σ) = 15\n",
        "\n",
        "Sample size (n) = 25\n",
        "\n",
        "Significance level (α) = 0.05\n",
        "\n",
        "Formula for Z-score:\n",
        "\n",
        "z = (x̄ - μ) / (σ / √n)\n",
        "\n",
        "Calculation:\n",
        "\n",
        "z = (105 - 100) / (15 / √25)\n",
        "\n",
        "z = 5 / (15 / 5)\n",
        "\n",
        "z = 5 / 3\n",
        "\n",
        "z ≈ 1.67\n",
        "\n",
        "**Interpretation of Z-score:**\n",
        "The z-score of 1.67 indicates that the sample mean is 1.67 standard deviations above the population mean.\n",
        "\n",
        "**Calculating P-value:**\n",
        "Since we're performing a two-tailed test (we want to know if the sample mean is significantly different from the population mean, regardless of direction), we'll find the area in both tails of the standard normal distribution.\n",
        "\n",
        "Using a z-table or statistical software, we find that the area in one tail corresponding to a z-score of 1.67 is approximately 0.0475.\n",
        "\n",
        "Therefore, the p-value for a two-tailed test is:\n",
        "\n",
        "p-value = 2 * 0.0475 ≈ 0.095\n",
        "\n",
        "**Decision:**\n",
        "Since the p-value (0.095) is greater than the significance level (0.05), we fail to reject the null hypothesis.\n",
        "\n",
        "**Conclusion:**\n",
        "There is not enough evidence to conclude that the sample mean of 105 is significantly different from the population mean of 100 at a 5% significance level."
      ],
      "metadata": {
        "id": "j_sIXsiUx5Hr"
      }
    },
    {
      "cell_type": "code",
      "source": [
        "#Task :  Python code that calculate the z-score and p-value for the given data.\n",
        "import scipy.stats as stats\n",
        "\n",
        "# Given values\n",
        "sample_mean = 105\n",
        "population_mean = 100\n",
        "standard_deviation = 15\n",
        "sample_size = 25\n",
        "\n",
        "# Calculate the z-score\n",
        "z_score = (sample_mean - population_mean) / (standard_deviation / (sample_size ** 0.5))\n",
        "\n",
        "# Calculate the p-value (two-tailed test)\n",
        "p_value = stats.norm.sf(abs(z_score)) * 2\n",
        "\n",
        "# Significance level\n",
        "alpha = 0.05\n",
        "\n",
        "# Decision\n",
        "if p_value < alpha:\n",
        "    print(\"Reject the null hypothesis\")\n",
        "else:\n",
        "    print(\"Fail to reject the null hypothesis\")"
      ],
      "metadata": {
        "colab": {
          "base_uri": "https://localhost:8080/"
        },
        "id": "I5sLhyEIytB5",
        "outputId": "5e1a7466-f710-4e2e-cab3-ee111a0b1d35"
      },
      "execution_count": 1,
      "outputs": [
        {
          "output_type": "stream",
          "name": "stdout",
          "text": [
            "Fail to reject the null hypothesis\n"
          ]
        }
      ]
    },
    {
      "cell_type": "markdown",
      "source": [
        "Q.10 Simulate a binomial distribution with 10 trials and a probability of success of 0.6 using Python.\n",
        "Generate 1,000 samples and plot the distribution. What is the expected mean and variance?\n",
        "\n",
        "Task: Use Python to generate the data, plot the distribution, and calculate the mean and variance.\n",
        "\n",
        "Objective: Understand the properties of a binomial distribution and verify them through simulation.\n",
        "\n",
        "\n"
      ],
      "metadata": {
        "id": "rG8Jk4FbznID"
      }
    },
    {
      "cell_type": "code",
      "source": [
        "#Ans.\n",
        "#Task\n",
        "import numpy as np\n",
        "import matplotlib.pyplot as plt\n",
        "\n",
        "# Set parameters\n",
        "n_trials = 10\n",
        "p_success = 0.6\n",
        "num_samples = 1000\n",
        "\n",
        "# Generate binomial samples\n",
        "samples = np.random.binomial(n_trials, p_success, size=num_samples)\n",
        "\n",
        "# Calculate expected mean and variance\n",
        "expected_mean = n_trials * p_success\n",
        "variance = n_trials * p_success * (1 - p_success)\n",
        "\n",
        "# Plot the distribution\n",
        "plt.hist(samples, bins=range(n_trials + 2), align='left')\n",
        "plt.xlabel(\"Number of Successes\")\n",
        "plt.ylabel(\"Frequency\")\n",
        "plt.title(f\"Binomial Distribution (n={n_trials}, p={p_success})\")\n",
        "plt.show()\n",
        "\n",
        "print(f\"Expected Mean: {expected_mean}\")\n",
        "print(f\"Variance: {variance}\")"
      ],
      "metadata": {
        "colab": {
          "base_uri": "https://localhost:8080/",
          "height": 507
        },
        "id": "WGZOl18g1iNF",
        "outputId": "732213e6-1c90-4ced-cbbb-452f4fe7160b"
      },
      "execution_count": 3,
      "outputs": [
        {
          "output_type": "display_data",
          "data": {
            "text/plain": [
              "<Figure size 640x480 with 1 Axes>"
            ],
            "image/png": "[encoded data removed]"
          },
          "metadata": {}
        },
        {
          "output_type": "stream",
          "name": "stdout",
          "text": [
            "Expected Mean: 6.0\n",
            "Variance: 2.4000000000000004\n"
          ]
        }
      ]
    },
    {
      "cell_type": "markdown",
      "source": [
        "This code will generate 1,000 samples from a binomial distribution with n=10 and p=0.6, plot the distribution, and calculate the expected mean and variance. The expected mean and variance of a binomial distribution are given by the formulas n*p and n*p*(1-p), respectively.\n",
        "\n",
        "\n",
        "#Objective\n",
        "1.Import necessary libraries: numpy for numerical operations and matplotlib.pyplot for plotting.\n",
        "\n",
        "2.Set parameters: Define the number of trials (n) and the probability of success (p).\n",
        "\n",
        "3.Generate samples: Use np.random.binomial to generate 1000 random samples from a binomial distribution with the specified parameters.\n",
        "\n",
        "4.Calculate expected mean and variance:The expected mean of a binomial distribution is n * p, and the expected variance is n * p * (1 - p).\n",
        "\n",
        "5.Plot the distribution: Create a histogram to visualize the distribution of the generated samples.\n",
        "6.Print results: Print the expected mean and variance.\n",
        "\n",
        "Verification of Binomial Distribution Properties:\n",
        "\n",
        "1.Expected Mean: The simulated mean should be close to the expected mean of 6.\n",
        "\n",
        "2.Expected Variance: The simulated variance should be close to the expected variance of 2.4.\n",
        "\n",
        "3.Shape: The distribution should be roughly bell-shaped, especially for larger values of n.\n",
        "\n",
        "4.Symmetry: The distribution should be symmetric around the mean if p = 0.5. For p ≠ 0.5, it will be skewed.\n",
        "\n",
        "By running this code, you will observe that the simulated results align with the theoretical properties of a binomial distribution, confirming the accuracy of the simulation."
      ],
      "metadata": {
        "id": "5wvGZGl00GZ9"
      }
    }
  ]
}